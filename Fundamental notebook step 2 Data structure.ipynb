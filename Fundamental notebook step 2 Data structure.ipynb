{
 "cells": [
  {
   "cell_type": "markdown",
   "metadata": {},
   "source": [
    "* 2D lists \n",
    "* tuples\n",
    "* Dictionaries \n",
    "* Conditional statements\n",
    "* range\n",
    "* Python Functions \n",
    "* Loops \n",
    "* functions "
   ]
  },
  {
   "cell_type": "code",
   "execution_count": 4,
   "metadata": {},
   "outputs": [
    {
     "name": "stdout",
     "output_type": "stream",
     "text": [
      "['Tom', 23, 'Yuvi', 23.4, 'Mahim']\n"
     ]
    }
   ],
   "source": [
    "alist=[\"Tom\",23,\"Yuvi\",23.4,\"Mahim\"]\n",
    "print(alist)"
   ]
  },
  {
   "cell_type": "code",
   "execution_count": 5,
   "metadata": {
    "scrolled": true
   },
   "outputs": [
    {
     "ename": "TypeError",
     "evalue": "append() takes exactly one argument (0 given)",
     "output_type": "error",
     "traceback": [
      "\u001b[0;31m---------------------------------------------------------------------------\u001b[0m",
      "\u001b[0;31mTypeError\u001b[0m                                 Traceback (most recent call last)",
      "\u001b[0;32m<ipython-input-5-d4650a562a0c>\u001b[0m in \u001b[0;36m<module>\u001b[0;34m\u001b[0m\n\u001b[0;32m----> 1\u001b[0;31m \u001b[0malist\u001b[0m\u001b[0;34m.\u001b[0m\u001b[0mappend\u001b[0m\u001b[0;34m(\u001b[0m\u001b[0;34m)\u001b[0m\u001b[0;34m\u001b[0m\u001b[0;34m\u001b[0m\u001b[0m\n\u001b[0m",
      "\u001b[0;31mTypeError\u001b[0m: append() takes exactly one argument (0 given)"
     ]
    }
   ],
   "source": [
    "alist.append()"
   ]
  },
  {
   "cell_type": "code",
   "execution_count": 6,
   "metadata": {},
   "outputs": [
    {
     "name": "stdout",
     "output_type": "stream",
     "text": [
      "\n",
      "Welcome to Python 3.7's help utility!\n",
      "\n",
      "If this is your first time using Python, you should definitely check out\n",
      "the tutorial on the Internet at https://docs.python.org/3.7/tutorial/.\n",
      "\n",
      "Enter the name of any module, keyword, or topic to get help on writing\n",
      "Python programs and using Python modules.  To quit this help utility and\n",
      "return to the interpreter, just type \"quit\".\n",
      "\n",
      "To get a list of available modules, keywords, symbols, or topics, type\n",
      "\"modules\", \"keywords\", \"symbols\", or \"topics\".  Each module also comes\n",
      "with a one-line summary of what it does; to list the modules whose name\n",
      "or summary contain a given string such as \"spam\", type \"modules spam\".\n",
      "\n",
      "help> sum\n",
      "Help on built-in function sum in module builtins:\n",
      "\n",
      "sum(iterable, start=0, /)\n",
      "    Return the sum of a 'start' value (default: 0) plus an iterable of numbers\n",
      "    \n",
      "    When the iterable is empty, return the start value.\n",
      "    This function is intended specifically for use with numeric values and may\n",
      "    reject non-numeric types.\n",
      "\n",
      "help> quit\n",
      "\n",
      "You are now leaving help and returning to the Python interpreter.\n",
      "If you want to ask for help on a particular object directly from the\n",
      "interpreter, you can type \"help(object)\".  Executing \"help('string')\"\n",
      "has the same effect as typing a particular string at the help> prompt.\n"
     ]
    }
   ],
   "source": [
    "help()"
   ]
  },
  {
   "cell_type": "markdown",
   "metadata": {},
   "source": [
    "***2D lists"
   ]
  },
  {
   "cell_type": "code",
   "execution_count": 11,
   "metadata": {},
   "outputs": [
    {
     "data": {
      "text/plain": [
       "[['Tom', 20], [45, 'Ram']]"
      ]
     },
     "execution_count": 11,
     "metadata": {},
     "output_type": "execute_result"
    }
   ],
   "source": [
    "blist=[[\"Tom\", 20],\n",
    "       [45, \"Ram\"]]\n",
    "blist"
   ]
  },
  {
   "cell_type": "code",
   "execution_count": 15,
   "metadata": {},
   "outputs": [
    {
     "data": {
      "text/plain": [
       "['Tom', 20]"
      ]
     },
     "execution_count": 15,
     "metadata": {},
     "output_type": "execute_result"
    }
   ],
   "source": [
    "blist[0]"
   ]
  },
  {
   "cell_type": "code",
   "execution_count": 16,
   "metadata": {},
   "outputs": [
    {
     "data": {
      "text/plain": [
       "'Tom'"
      ]
     },
     "execution_count": 16,
     "metadata": {},
     "output_type": "execute_result"
    }
   ],
   "source": [
    "blist[0][0]"
   ]
  },
  {
   "cell_type": "code",
   "execution_count": 17,
   "metadata": {},
   "outputs": [
    {
     "data": {
      "text/plain": [
       "'Ram'"
      ]
     },
     "execution_count": 17,
     "metadata": {},
     "output_type": "execute_result"
    }
   ],
   "source": [
    "blist[1][1]"
   ]
  },
  {
   "cell_type": "code",
   "execution_count": 21,
   "metadata": {},
   "outputs": [
    {
     "data": {
      "text/plain": [
       "[45, 'Ram']"
      ]
     },
     "execution_count": 21,
     "metadata": {},
     "output_type": "execute_result"
    }
   ],
   "source": [
    "blist[-1]"
   ]
  },
  {
   "cell_type": "code",
   "execution_count": 24,
   "metadata": {},
   "outputs": [],
   "source": [
    "blist.append([\"kim\",0])"
   ]
  },
  {
   "cell_type": "code",
   "execution_count": 25,
   "metadata": {},
   "outputs": [
    {
     "data": {
      "text/plain": [
       "[['Tom', 20], [45, 'Ram'], ['kim', 0]]"
      ]
     },
     "execution_count": 25,
     "metadata": {},
     "output_type": "execute_result"
    }
   ],
   "source": [
    "blist"
   ]
  },
  {
   "cell_type": "code",
   "execution_count": 28,
   "metadata": {},
   "outputs": [
    {
     "data": {
      "text/plain": [
       "[0, 0, 0, 0, 0]"
      ]
     },
     "execution_count": 28,
     "metadata": {},
     "output_type": "execute_result"
    }
   ],
   "source": [
    "a=[0]*5\n",
    "a"
   ]
  },
  {
   "cell_type": "code",
   "execution_count": 31,
   "metadata": {},
   "outputs": [
    {
     "data": {
      "text/plain": [
       "[[1, 1, 1, 1, 1], [1, 1, 1, 1, 1], [1, 1, 1, 1, 1], [1, 1, 1, 1, 1]]"
      ]
     },
     "execution_count": 31,
     "metadata": {},
     "output_type": "execute_result"
    }
   ],
   "source": [
    "cols=5\n",
    "rows=4\n",
    "a=[[1]*cols]*rows\n",
    "a"
   ]
  },
  {
   "cell_type": "markdown",
   "metadata": {},
   "source": [
    "***tuples          Tuples are faster than lists.protected-one can not change the data ,it stores the data\n",
    "                    like strings it is immutable cant change\n",
    "                    indexing is done in (tuples and strings )as well as in list"
   ]
  },
  {
   "cell_type": "code",
   "execution_count": 32,
   "metadata": {},
   "outputs": [],
   "source": [
    "#tuples are compound data types\n",
    "#like lists it is a ordered sequence it has comma seperated values \n",
    "#tuples are immutable...we can not change them"
   ]
  },
  {
   "cell_type": "code",
   "execution_count": 34,
   "metadata": {},
   "outputs": [
    {
     "data": {
      "text/plain": [
       "('tom', 78)"
      ]
     },
     "execution_count": 34,
     "metadata": {},
     "output_type": "execute_result"
    }
   ],
   "source": [
    "tup1=(\"tom\",78)\n",
    "tup1"
   ]
  },
  {
   "cell_type": "code",
   "execution_count": 36,
   "metadata": {},
   "outputs": [
    {
     "data": {
      "text/plain": [
       "('sam', 89)"
      ]
     },
     "execution_count": 36,
     "metadata": {},
     "output_type": "execute_result"
    }
   ],
   "source": [
    "tup2=(\"sam\",89)\n",
    "tup2"
   ]
  },
  {
   "cell_type": "code",
   "execution_count": 38,
   "metadata": {},
   "outputs": [
    {
     "data": {
      "text/plain": [
       "('tom', 78, 'sam', 89)"
      ]
     },
     "execution_count": 38,
     "metadata": {},
     "output_type": "execute_result"
    }
   ],
   "source": [
    "tup3=(tup1+tup2)\n",
    "tup3"
   ]
  },
  {
   "cell_type": "code",
   "execution_count": 40,
   "metadata": {},
   "outputs": [
    {
     "data": {
      "text/plain": [
       "4"
      ]
     },
     "execution_count": 40,
     "metadata": {},
     "output_type": "execute_result"
    }
   ],
   "source": [
    "len(tup3)"
   ]
  },
  {
   "cell_type": "markdown",
   "metadata": {},
   "source": [
    "***Dictionaries "
   ]
  },
  {
   "cell_type": "code",
   "execution_count": 50,
   "metadata": {},
   "outputs": [
    {
     "data": {
      "text/plain": [
       "{'India': 1, 'USA': 2, 'China': 3}"
      ]
     },
     "execution_count": 50,
     "metadata": {},
     "output_type": "execute_result"
    }
   ],
   "source": [
    "country_code={\"India\":1,\"USA\":2,\"China\":3}\n",
    "country_code"
   ]
  },
  {
   "cell_type": "code",
   "execution_count": 45,
   "metadata": {},
   "outputs": [
    {
     "name": "stdout",
     "output_type": "stream",
     "text": [
      "3\n"
     ]
    }
   ],
   "source": [
    "print(country_code[\"China\"])"
   ]
  },
  {
   "cell_type": "code",
   "execution_count": 51,
   "metadata": {},
   "outputs": [
    {
     "data": {
      "text/plain": [
       "{'India': 1, 'USA': 2, 'China': 3, 'UAE': 4}"
      ]
     },
     "execution_count": 51,
     "metadata": {},
     "output_type": "execute_result"
    }
   ],
   "source": [
    "country_code[\"UAE\"]=4\n",
    "country_code"
   ]
  },
  {
   "cell_type": "code",
   "execution_count": 52,
   "metadata": {},
   "outputs": [
    {
     "data": {
      "text/plain": [
       "True"
      ]
     },
     "execution_count": 52,
     "metadata": {},
     "output_type": "execute_result"
    }
   ],
   "source": [
    "\"India\" in country_code"
   ]
  },
  {
   "cell_type": "code",
   "execution_count": 53,
   "metadata": {},
   "outputs": [
    {
     "data": {
      "text/plain": [
       "False"
      ]
     },
     "execution_count": 53,
     "metadata": {},
     "output_type": "execute_result"
    }
   ],
   "source": [
    "\"pakistan\" in country_code"
   ]
  },
  {
   "cell_type": "code",
   "execution_count": 55,
   "metadata": {},
   "outputs": [
    {
     "data": {
      "text/plain": [
       "bool"
      ]
     },
     "execution_count": 55,
     "metadata": {},
     "output_type": "execute_result"
    }
   ],
   "source": [
    "x=True\n",
    "type(x)"
   ]
  },
  {
   "cell_type": "markdown",
   "metadata": {},
   "source": [
    "***conditional statements"
   ]
  },
  {
   "cell_type": "markdown",
   "metadata": {},
   "source": [
    "***Loop"
   ]
  },
  {
   "cell_type": "code",
   "execution_count": 57,
   "metadata": {},
   "outputs": [
    {
     "name": "stdout",
     "output_type": "stream",
     "text": [
      "its red color\n",
      "problem solved\n"
     ]
    }
   ],
   "source": [
    "color=\"red\"\n",
    "if color == \"red\":\n",
    "    print(\"its red color\")\n",
    "\n",
    "print(\"problem solved\")"
   ]
  },
  {
   "cell_type": "code",
   "execution_count": 56,
   "metadata": {},
   "outputs": [
    {
     "name": "stdout",
     "output_type": "stream",
     "text": [
      "False\n",
      "True\n",
      "False\n",
      "True\n"
     ]
    }
   ],
   "source": [
    "a=1\n",
    "b=2\n",
    "print(a == b)\n",
    "print(a <= b)\n",
    "print(a >= b)\n",
    "print(a != b)"
   ]
  },
  {
   "cell_type": "markdown",
   "metadata": {},
   "source": [
    "color=\"green\"\n",
    "if color == \"red\":\n",
    "    print(\"its red color\")\n",
    "elif:\n",
    "    print(\"green color\")\n",
    "\n",
    "print(\"problem solved\")"
   ]
  },
  {
   "cell_type": "code",
   "execution_count": 60,
   "metadata": {},
   "outputs": [
    {
     "name": "stdout",
     "output_type": "stream",
     "text": [
      "its red color\n",
      "problem solved\n"
     ]
    }
   ],
   "source": [
    "\n",
    "color=\"red\"\n",
    "if color == \"red\":\n",
    "    print(\"its red color\")\n",
    "\n",
    "print(\"problem solved\")"
   ]
  },
  {
   "cell_type": "code",
   "execution_count": 61,
   "metadata": {},
   "outputs": [
    {
     "name": "stdout",
     "output_type": "stream",
     "text": [
      "color not red\n",
      "problem solved\n"
     ]
    }
   ],
   "source": [
    "\n",
    "color=\"green\"\n",
    "if color == \"red\":\n",
    "    print(\"its red color\")\n",
    "else:\n",
    "    print(\"color not red\")\n",
    "print(\"problem solved\")"
   ]
  },
  {
   "cell_type": "code",
   "execution_count": 63,
   "metadata": {},
   "outputs": [
    {
     "name": "stdout",
     "output_type": "stream",
     "text": [
      "Its a green\n",
      "problem solved\n"
     ]
    }
   ],
   "source": [
    "\n",
    "color=\"green\"\n",
    "if color == \"red\":\n",
    "    \n",
    "    print(\"its red color\")\n",
    "elif color == \"green\":\n",
    "    print(\"Its a green\")\n",
    "    \n",
    "else:\n",
    "    print(\"color not red\")\n",
    "print(\"problem solved\")"
   ]
  },
  {
   "cell_type": "markdown",
   "metadata": {},
   "source": [
    "***AND,OR,NOT"
   ]
  },
  {
   "cell_type": "code",
   "execution_count": 65,
   "metadata": {},
   "outputs": [],
   "source": [
    "#0 stands for false\n",
    "#any other value is true\n"
   ]
  },
  {
   "cell_type": "code",
   "execution_count": 67,
   "metadata": {},
   "outputs": [
    {
     "name": "stdout",
     "output_type": "stream",
     "text": [
      "False\n"
     ]
    },
    {
     "data": {
      "text/plain": [
       "0"
      ]
     },
     "execution_count": 67,
     "metadata": {},
     "output_type": "execute_result"
    }
   ],
   "source": [
    "a=0\n",
    "print (a!=0)\n",
    "a"
   ]
  },
  {
   "cell_type": "code",
   "execution_count": 68,
   "metadata": {},
   "outputs": [
    {
     "name": "stdout",
     "output_type": "stream",
     "text": [
      "True\n"
     ]
    },
    {
     "data": {
      "text/plain": [
       "2"
      ]
     },
     "execution_count": 68,
     "metadata": {},
     "output_type": "execute_result"
    }
   ],
   "source": [
    "a=2\n",
    "print (a!=0)\n",
    "a"
   ]
  },
  {
   "cell_type": "code",
   "execution_count": 70,
   "metadata": {},
   "outputs": [
    {
     "data": {
      "text/plain": [
       "True"
      ]
     },
     "execution_count": 70,
     "metadata": {},
     "output_type": "execute_result"
    }
   ],
   "source": [
    "a=0\n",
    "not(a)"
   ]
  },
  {
   "cell_type": "code",
   "execution_count": 71,
   "metadata": {},
   "outputs": [],
   "source": [
    "score=75\n"
   ]
  },
  {
   "cell_type": "markdown",
   "metadata": {},
   "source": [
    "***range"
   ]
  },
  {
   "cell_type": "code",
   "execution_count": 72,
   "metadata": {},
   "outputs": [
    {
     "data": {
      "text/plain": [
       "range(0, 5)"
      ]
     },
     "execution_count": 72,
     "metadata": {},
     "output_type": "execute_result"
    }
   ],
   "source": [
    "range(5)"
   ]
  },
  {
   "cell_type": "code",
   "execution_count": 73,
   "metadata": {},
   "outputs": [
    {
     "name": "stdout",
     "output_type": "stream",
     "text": [
      "0\n",
      "1\n",
      "2\n",
      "3\n",
      "4\n"
     ]
    }
   ],
   "source": [
    "for i in range(5):\n",
    "    print(i)"
   ]
  },
  {
   "cell_type": "code",
   "execution_count": 79,
   "metadata": {},
   "outputs": [
    {
     "name": "stdout",
     "output_type": "stream",
     "text": [
      "0\n",
      "1\n",
      "2\n",
      "3\n",
      "4\n"
     ]
    }
   ],
   "source": [
    "for i in range(5):\n",
    "    product=5*i\n",
    "    print(i)"
   ]
  },
  {
   "cell_type": "code",
   "execution_count": 86,
   "metadata": {},
   "outputs": [
    {
     "name": "stdout",
     "output_type": "stream",
     "text": [
      "8\n",
      "24\n",
      "40\n",
      "56\n",
      "72\n"
     ]
    }
   ],
   "source": [
    "for i in range(1,10,2):\n",
    "    product= 8 * i\n",
    "    print(product)"
   ]
  },
  {
   "cell_type": "code",
   "execution_count": 91,
   "metadata": {},
   "outputs": [
    {
     "name": "stdout",
     "output_type": "stream",
     "text": [
      "ANKITA\n",
      "YUVAAN\n",
      "SATYAJEET\n"
     ]
    }
   ],
   "source": [
    "names=(\"ankita\",\"yuvaan\",\"satyajeet\")\n",
    "for i in names:\n",
    "    print(i.upper())"
   ]
  },
  {
   "cell_type": "code",
   "execution_count": 92,
   "metadata": {},
   "outputs": [
    {
     "name": "stdout",
     "output_type": "stream",
     "text": [
      "Ankita\n",
      "Yuvaan\n",
      "Satyajeet\n"
     ]
    }
   ],
   "source": [
    "names=(\"ankita\",\"yuvaan\",\"satyajeet\")\n",
    "for i in names:\n",
    "    print(i.capitalize())"
   ]
  },
  {
   "cell_type": "code",
   "execution_count": 94,
   "metadata": {},
   "outputs": [
    {
     "name": "stdout",
     "output_type": "stream",
     "text": [
      "juvinile\n",
      "adult\n",
      "adult\n",
      "juvinile\n",
      "juvinile\n"
     ]
    }
   ],
   "source": [
    "age=[7,55,26,12,5]\n",
    "i=0\n",
    "while i < len(age):\n",
    "    if age[i] >= 18:\n",
    "        print(\"adult\")\n",
    "    else:\n",
    "        print (\"juvinile\")\n",
    "    i += 1\n",
    "    \n",
    "    "
   ]
  },
  {
   "cell_type": "code",
   "execution_count": 97,
   "metadata": {},
   "outputs": [
    {
     "name": "stdout",
     "output_type": "stream",
     "text": [
      "True\n",
      "True\n",
      "True\n",
      "False\n"
     ]
    }
   ],
   "source": [
    "names=(\"ankita\",\"yuvaan\",\"satyajeet\",\"xyz\")\n",
    "i=0\n",
    "while i < len(names):\n",
    "    if names[i] != \"xyz\":\n",
    "        print (\"True\")\n",
    "    else:\n",
    "        print(\"False\")\n",
    "    i += 1"
   ]
  },
  {
   "cell_type": "markdown",
   "metadata": {},
   "source": [
    "***List comprihension.........#does a work in single line"
   ]
  },
  {
   "cell_type": "code",
   "execution_count": 100,
   "metadata": {},
   "outputs": [
    {
     "data": {
      "text/plain": [
       "[0, 1, 8, 27, 64, 125, 216, 343, 512, 729]"
      ]
     },
     "execution_count": 100,
     "metadata": {},
     "output_type": "execute_result"
    }
   ],
   "source": [
    "cubes=[i**3 for i in range(10)]\n",
    "cubes"
   ]
  },
  {
   "cell_type": "code",
   "execution_count": 103,
   "metadata": {},
   "outputs": [
    {
     "name": "stdout",
     "output_type": "stream",
     "text": [
      "0\n",
      "1\n",
      "8\n",
      "27\n",
      "64\n",
      "125\n",
      "216\n",
      "343\n",
      "512\n",
      "729\n"
     ]
    }
   ],
   "source": [
    "cubes=[]\n",
    "for i in range(10):\n",
    "    print(i ** 3)\n"
   ]
  },
  {
   "cell_type": "code",
   "execution_count": 104,
   "metadata": {},
   "outputs": [
    {
     "name": "stdout",
     "output_type": "stream",
     "text": [
      "[1, 8, 27, 64, 125, 216, 343, 512, 729]\n"
     ]
    }
   ],
   "source": [
    "cubes=[]\n",
    "for i in range(1,10):\n",
    "    cubes.append(i ** 3)\n",
    "print(cubes)"
   ]
  },
  {
   "cell_type": "markdown",
   "metadata": {},
   "source": [
    "***Python Functions "
   ]
  },
  {
   "cell_type": "code",
   "execution_count": 107,
   "metadata": {},
   "outputs": [
    {
     "name": "stdout",
     "output_type": "stream",
     "text": [
      "sum= 5\n"
     ]
    }
   ],
   "source": [
    "def add_two_numbers(a,b):\n",
    "    sum=a+b\n",
    "    print(\"sum=\",sum)\n",
    "    return \n",
    "add_two_numbers(2,3)"
   ]
  },
  {
   "cell_type": "code",
   "execution_count": 106,
   "metadata": {},
   "outputs": [
    {
     "data": {
      "text/plain": [
       "5"
      ]
     },
     "execution_count": 106,
     "metadata": {},
     "output_type": "execute_result"
    }
   ],
   "source": [
    "def add_two_numbers(a,b):\n",
    "    sum =a+b\n",
    "    return sum\n",
    "add_two_numbers(2,3)"
   ]
  },
  {
   "cell_type": "code",
   "execution_count": 113,
   "metadata": {},
   "outputs": [
    {
     "data": {
      "text/plain": [
       "10.0"
      ]
     },
     "execution_count": 113,
     "metadata": {},
     "output_type": "execute_result"
    }
   ],
   "source": [
    "def fahr_to_cel(temp):\n",
    "    \"\"\" this function converts temp from farhanite to celious..\n",
    "    Args:\n",
    "    temp fahr_to_cel means farhanite to celicious\n",
    "    returns \n",
    "    temp in celcious\n",
    "    \"\"\"\n",
    "    tempInCel=(temp-32)*5/9\n",
    "    return tempInCel\n",
    "fahr_to_cel (50)"
   ]
  },
  {
   "cell_type": "code",
   "execution_count": 144,
   "metadata": {},
   "outputs": [
    {
     "name": "stdout",
     "output_type": "stream",
     "text": [
      "35,70,105,140,175,210,245,280,315,350,385,420,455,490\n"
     ]
    }
   ],
   "source": [
    "#Python Exercise: Find numbers which are divisible by 7 and multiple of 5 between a range\n",
    "\n",
    "n=[]\n",
    "for i in range(25,500):\n",
    "    if (i % 7 ==0) and (i % 5 ==0):\n",
    "        n.append(str(i))\n",
    "print(','.join(n))"
   ]
  },
  {
   "cell_type": "code",
   "execution_count": 140,
   "metadata": {},
   "outputs": [
    {
     "name": "stdout",
     "output_type": "stream",
     "text": [
      "1505,1540,1575,1610,1645,1680,1715,1750,1785,1820,1855,1890,1925,1960,1995,2030,2065,2100,2135,2170,2205,2240,2275,2310,2345,2380,2415,2450,2485,2520,2555,2590,2625,2660,2695\n"
     ]
    }
   ],
   "source": [
    "nl=[]\n",
    "for x in range(1500, 2701):\n",
    "    if (x%7==0) and (x%5==0):\n",
    "        nl.append(str(x))\n",
    "print (','.join(nl))"
   ]
  },
  {
   "cell_type": "code",
   "execution_count": 145,
   "metadata": {},
   "outputs": [
    {
     "name": "stdout",
     "output_type": "stream",
     "text": [
      "[35, 70, 105, 140, 175, 210, 245, 280, 315, 350, 385, 420, 455, 490]\n"
     ]
    }
   ],
   "source": [
    "\n",
    "n=[]\n",
    "for i in range(25,500):\n",
    "    if (i % 7 ==0) and (i % 5 ==0):\n",
    "        n.append(i)\n",
    "print(n)"
   ]
  },
  {
   "cell_type": "code",
   "execution_count": null,
   "metadata": {},
   "outputs": [],
   "source": [
    "'''2. Write a Python program to convert temperatures to and from celsius, fahrenheit. Go to the editor\n",
    "[ Formula : c/5 = f-32/9 [ where c = temperature in celsius and f = temperature in fahrenheit ]\n",
    "Expected Output :\n",
    "60°C is 140 in Fahrenheit\n",
    "45°F is 7 in Celsius'''"
   ]
  },
  {
   "cell_type": "code",
   "execution_count": 2,
   "metadata": {},
   "outputs": [
    {
     "data": {
      "text/plain": [
       "4.444444444444445"
      ]
     },
     "execution_count": 2,
     "metadata": {},
     "output_type": "execute_result"
    }
   ],
   "source": [
    "def cel_to_frh(temp):\n",
    "    tempincel= (5/9) * (temp - 32)\n",
    "    return tempincel\n",
    "cel_to_frh(40)"
   ]
  },
  {
   "cell_type": "code",
   "execution_count": 3,
   "metadata": {},
   "outputs": [
    {
     "name": "stdout",
     "output_type": "stream",
     "text": [
      "Input the  temperature you like to convert? (e.g., 45F, 102C etc.) : 40F\n",
      "The temperature in Celsius is 4 degrees.\n"
     ]
    }
   ],
   "source": [
    "temp = input(\"Input the  temperature you like to convert? (e.g., 45F, 102C etc.) : \")\n",
    "degree = int(temp[:-1])\n",
    "i_convention = temp[-1]\n",
    "\n",
    "if i_convention.upper() == \"C\":\n",
    "  result = int(round((9 * degree) / 5 + 32))\n",
    "  o_convention = \"Fahrenheit\"\n",
    "elif i_convention.upper() == \"F\":\n",
    "  result = int(round((degree - 32) * 5 / 9))\n",
    "  o_convention = \"Celsius\"\n",
    "else:\n",
    "  print(\"Input proper convention.\")\n",
    "  quit()\n",
    "print(\"The temperature in\", o_convention, \"is\", result, \"degrees.\")"
   ]
  },
  {
   "cell_type": "code",
   "execution_count": null,
   "metadata": {},
   "outputs": [],
   "source": [
    "'''Write a Python program to guess a number between 1 to 9. Go to the editor\n",
    "Note : User is prompted to enter a guess. If the user guesses wrong then the prompt appears \n",
    "again until the guess is correct, on successful guess, user will get a \"Well guessed!\" message, \n",
    "and the program will exit.'''"
   ]
  },
  {
   "cell_type": "code",
   "execution_count": 1,
   "metadata": {},
   "outputs": [],
   "source": [
    "#Exercise"
   ]
  },
  {
   "cell_type": "code",
   "execution_count": 2,
   "metadata": {},
   "outputs": [
    {
     "name": "stdout",
     "output_type": "stream",
     "text": [
      "False\n",
      "False\n",
      "False\n",
      "True\n"
     ]
    }
   ],
   "source": [
    "#Q1: What would be the output of the following code block?\n",
    "count = 4\n",
    "print(count == 2)\n",
    "print(count != 4)\n",
    "print(count > 4)\n",
    "print(count < 6)"
   ]
  },
  {
   "cell_type": "code",
   "execution_count": 5,
   "metadata": {},
   "outputs": [
    {
     "name": "stdout",
     "output_type": "stream",
     "text": [
      "We have an Apple!\n"
     ]
    }
   ],
   "source": [
    "#Q2: What would be the output of the following code block?\n",
    "color = \"red\"\n",
    "category = \"fruit\"\n",
    "\n",
    "if color == \"red\" and category == \"fruit\":\n",
    "    print(\"We have an Apple!\")\n",
    "\n",
    "if color == \"red\" and category == \"vegetable\":\n",
    "    print(\"We have tomatoes\")"
   ]
  },
  {
   "cell_type": "code",
   "execution_count": 6,
   "metadata": {},
   "outputs": [
    {
     "name": "stdout",
     "output_type": "stream",
     "text": [
      "Sorry, We don't have bananas in stock. Please review your order!\n"
     ]
    }
   ],
   "source": [
    "#Q3: What would be the output of the following code block?\n",
    "requested = ['blueberry', 'banana']\n",
    "fruits = ['apple', 'banana', 'watermelon', 'kiwi', 'rasberry']\n",
    "\n",
    "if requested not in fruits:\n",
    "    print(\"Sorry, We don't have bananas in stock. Please review your order!\")\n",
    "\n",
    "else:\n",
    "    print(\"Order is placed!\")"
   ]
  },
  {
   "cell_type": "code",
   "execution_count": 8,
   "metadata": {},
   "outputs": [
    {
     "name": "stdout",
     "output_type": "stream",
     "text": [
      "True\n"
     ]
    }
   ],
   "source": [
    "#Q4: What would be the output of the following code block?\n",
    "scores1 = [1,2,3]\n",
    "scores2 = [1,2,3]\n",
    "\n",
    "print(scores1 == scores2)"
   ]
  },
  {
   "cell_type": "code",
   "execution_count": 9,
   "metadata": {},
   "outputs": [
    {
     "name": "stdout",
     "output_type": "stream",
     "text": [
      "True\n",
      "False\n"
     ]
    }
   ],
   "source": [
    "#Q5: What would be the output of the following code block? Learn about 'is' operator.¶\n",
    "scores1 = [1,2,3]\n",
    "scores2 = [1,2,3]\n",
    "\n",
    "print(scores1 == scores2)\n",
    "print(scores1 is scores2)"
   ]
  },
  {
   "cell_type": "code",
   "execution_count": null,
   "metadata": {},
   "outputs": [],
   "source": []
  }
 ],
 "metadata": {
  "kernelspec": {
   "display_name": "Python 3",
   "language": "python",
   "name": "python3"
  },
  "language_info": {
   "codemirror_mode": {
    "name": "ipython",
    "version": 3
   },
   "file_extension": ".py",
   "mimetype": "text/x-python",
   "name": "python",
   "nbconvert_exporter": "python",
   "pygments_lexer": "ipython3",
   "version": "3.7.3"
  }
 },
 "nbformat": 4,
 "nbformat_minor": 2
}
